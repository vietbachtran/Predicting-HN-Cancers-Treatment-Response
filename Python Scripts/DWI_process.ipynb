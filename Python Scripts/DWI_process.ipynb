{
 "cells": [
  {
   "cell_type": "code",
   "execution_count": 6,
   "id": "1b444a17",
   "metadata": {},
   "outputs": [],
   "source": [
    "import numpy as np \n",
    "import pydicom as dicom\n",
    "import os \n",
    "import matplotlib.pyplot as plt \n",
    "import pandas as pd \n",
    "import nrrd\n",
    "import cv2\n",
    "from keras.preprocessing.image import array_to_img\n",
    "import PIL\n",
    "from PIL import ImageOps\n",
    "from PIL import Image\n",
    "import os\n",
    "from tensorflow import keras\n",
    "from IPython.display import Image, display\n",
    "from tensorflow.keras.preprocessing.image import load_img"
   ]
  },
  {
   "cell_type": "code",
   "execution_count": 210,
   "id": "df373ea3",
   "metadata": {},
   "outputs": [],
   "source": [
    "#Load and sort slices:\n",
    "def load_scan(path):\n",
    "    scans = [dicom.read_file(path + '/' + s) for s in os.listdir(path)]\n",
    "    scans=np.array(scans)\n",
    "    scan_z=[]\n",
    "    for scan in scans:\n",
    "        scan_z.append(scan.SliceLocation)\n",
    "    i = np.argsort(scan_z)\n",
    "    scans=scans[i[::-1]]\n",
    "    return scans\n",
    "\n",
    "#Load contour:\n",
    "def load_contour(path):\n",
    "    contour,header= nrrd.read(path)\n",
    "    return contour\n",
    "\n",
    "#Find the center slice index:\n",
    "def center_slice(scan, contour):\n",
    "    tumour=[]\n",
    "    for i in range(len(contour[0,0])):\n",
    "        if (1 in contour[:,:,i])==True:\n",
    "            tumour.append(i)\n",
    "    index=tumour[int((tumour[-1]-tumour[0])/2)]\n",
    "    center_scan=scan[index].pixel_array\n",
    "    center_contour=contour[:,:,index]\n",
    "    return center_scan, center_contour\n",
    "\n",
    "#Crop the centroid of tumor:\n",
    "def crop_centroid(scan,contour,img_size):\n",
    "    M = cv2.moments(contour)\n",
    "    cX = int(M[\"m10\"] / M[\"m00\"])\n",
    "    cY = int(M[\"m01\"] / M[\"m00\"])\n",
    "    size=int(img_size/2)\n",
    "    crop_scan = scan[cY-size:cY+size,cX-size:cX+size]\n",
    "    crop_contour = contour[cY-size:cY+size,cX-size:cX+size]\n",
    "    return crop_scan, crop_contour"
   ]
  },
  {
   "cell_type": "code",
   "execution_count": 13,
   "id": "1693d392",
   "metadata": {},
   "outputs": [],
   "source": [
    "def center_slice(contour):\n",
    "    tumour=[]\n",
    "    for i in range(len(contour[0,0])):\n",
    "        if (1 in contour[:,:,i])==True:\n",
    "            tumour.append(i)\n",
    "    index=tumour[int((tumour[-1]-tumour[0])/2)]\n",
    "    center_contour=contour[:,:,index]\n",
    "    return center_contour\n",
    "\n",
    "def crop_centroid(contour,img_size):\n",
    "    M = cv2.moments(contour)\n",
    "    cX = int(M[\"m10\"] / M[\"m00\"])\n",
    "    cY = int(M[\"m01\"] / M[\"m00\"])\n",
    "    size=int(img_size/2)\n",
    "    crop_contour = contour[cY-size:cY+size,cX-size:cX+size]\n",
    "    return crop_contour"
   ]
  },
  {
   "cell_type": "code",
   "execution_count": 223,
   "id": "c5c32b81",
   "metadata": {},
   "outputs": [
    {
     "name": "stdout",
     "output_type": "stream",
     "text": [
      "1049397/W1\n",
      "Done\n",
      "1049397/W2\n",
      "Done\n",
      "1049397/W3\n",
      "Done\n",
      "1049397/W4\n",
      "Done\n",
      "1049397/W5\n",
      "Done\n",
      "1049397/W6\n",
      "Done\n",
      "2139028/W1\n",
      "Done\n",
      "2139028/W2\n",
      "Done\n",
      "2139028/W3\n",
      "Done\n",
      "2139028/W4\n",
      "Done\n",
      "2139028/W5\n",
      "Done\n",
      "2377620/W1\n",
      "Done\n",
      "2377620/W2\n",
      "Done\n",
      "2377620/W3\n",
      "Done\n",
      "2377620/W4\n",
      "Done\n",
      "2377620/W5\n",
      "Done\n",
      "2386449/W1\n",
      "Done\n",
      "2386449/W2\n",
      "Done\n",
      "2386449/W3\n",
      "Done\n",
      "2386449/W4\n",
      "Done\n",
      "2386449/W5\n",
      "Done\n",
      "2386449/W6\n",
      "Done\n",
      "2403028/W1\n",
      "Done\n",
      "2403028/W2\n",
      "Done\n",
      "2403028/W3\n",
      "Done\n",
      "2403028/W4\n",
      "Done\n",
      "2403028/W5\n",
      "Done\n",
      "2403028/W6\n",
      "Done\n",
      "2413785/W1\n",
      "Done\n",
      "2413785/W2\n",
      "Done\n",
      "2413785/W3\n",
      "Done\n",
      "2413785/W4\n",
      "Done\n",
      "2413785/W5\n",
      "Done\n",
      "2413785/W6\n",
      "Done\n",
      "2419611/W1\n",
      "Done\n",
      "2419611/W2\n",
      "Done\n",
      "2419611/W3\n",
      "Done\n",
      "2419611/W4\n",
      "Done\n",
      "2419611/W5\n",
      "Done\n",
      "2419611/W6\n",
      "Done\n",
      "2455275/W1\n",
      "Done\n",
      "2455275/W2\n",
      "Done\n",
      "2455275/W3\n",
      "Done\n",
      "2455275/W4\n",
      "Done\n",
      "2455275/W5\n",
      "Done\n",
      "2459017/W1\n",
      "Done\n",
      "2459017/W2\n",
      "Done\n",
      "2459017/W3\n",
      "Done\n",
      "2459017/W4\n",
      "Done\n",
      "2467000/W1\n",
      "Done\n",
      "2467000/W2\n",
      "Done\n",
      "2467000/W3\n",
      "Done\n",
      "2467000/W4\n",
      "Done\n",
      "2467000/W5\n",
      "Done\n",
      "2467000/W6\n",
      "Done\n",
      "2467929/W1\n",
      "Done\n",
      "2467929/W2\n",
      "Done\n",
      "2467929/W3\n",
      "Done\n",
      "2467929/W4\n",
      "Done\n",
      "2510278/W1\n",
      "Done\n",
      "2510278/W2\n",
      "Done\n",
      "2510278/W3\n",
      "Done\n",
      "2510278/W4\n",
      "Done\n",
      "2521725/W1\n",
      "Done\n",
      "2521725/W2\n",
      "Done\n",
      "2521725/W4\n",
      "Done\n",
      "2541392/W1\n",
      "Done\n",
      "2541392/W2\n",
      "Done\n",
      "2541392/W4\n",
      "Done\n",
      "2541392/W5\n",
      "Done\n",
      "2541392/W6\n",
      "Done\n",
      "2547570/W1\n",
      "Done\n",
      "2547570/W2\n",
      "Done\n",
      "2547570/W3\n",
      "Done\n",
      "2547570/W5\n",
      "Done\n",
      "2547570/W6\n",
      "Done\n",
      "2551521/W1\n",
      "Done\n",
      "2551521/W2\n",
      "Done\n",
      "2551521/W3\n",
      "Done\n",
      "2551521/W4\n",
      "Done\n",
      "2551521/W5\n",
      "Done\n",
      "2570357/W1\n",
      "Done\n",
      "2570357/W2\n",
      "Done\n",
      "2574697/W1\n",
      "Done\n",
      "2574697/W2\n",
      "Done\n",
      "2587907/W1\n",
      "Done\n",
      "2587907/W2\n",
      "Done\n",
      "2587907/W3\n",
      "Done\n",
      "2591335/W1\n",
      "Done\n",
      "2591335/W2\n",
      "Done\n",
      "2591335/W3\n",
      "Done\n",
      "2591335/W4\n",
      "Done\n",
      "2591335/W5\n",
      "Done\n",
      "2593206/W1\n",
      "Done\n",
      "2593206/W2\n",
      "Done\n",
      "2593206/W3\n",
      "Done\n",
      "2593206/W4\n",
      "Done\n",
      "2593206/W5\n",
      "Done\n",
      "2604993/W1\n",
      "Done\n",
      "2604993/W2\n",
      "Done\n",
      "2604993/W3\n",
      "Done\n",
      "2604993/W4\n",
      "Done\n",
      "2604993/W5\n",
      "Done\n",
      "2604993/W6\n",
      "Done\n",
      "2609170/W1\n",
      "Done\n",
      "2609170/W2\n",
      "Done\n",
      "2609170/W3\n",
      "Done\n",
      "2609170/W4\n",
      "Done\n",
      "2609170/W5\n",
      "Done\n",
      "2609170/W6\n",
      "Done\n",
      "862797/W1\n",
      "Done\n",
      "862797/W2\n",
      "Done\n",
      "862797/W3\n",
      "Done\n",
      "862797/W4\n",
      "Done\n",
      "862797/W5\n",
      "Done\n",
      "862797/W6\n",
      "Done\n",
      "895844/W1\n",
      "Done\n",
      "895844/W2\n",
      "Done\n",
      "895844/W5\n",
      "Done\n"
     ]
    }
   ],
   "source": [
    "contour_path = \"C:/Users/bvtran/OneDrive - Inside MD Anderson/Documents/MRL_data/RD_Slicer3D\"\n",
    "# dicom_path= \"C:/Users/bvtran/OneDrive - Inside MD Anderson/Documents/MRL_data/RD_Dicom\"\n",
    "dicom_path= \"Y:/DWI/\"\n",
    "for patient_id in os.listdir(contour_path):\n",
    "    for week in os.listdir(contour_path+'/'+patient_id):\n",
    "        print(patient_id+'/'+week[0:2])\n",
    "        contour= load_contour(contour_path+'/'+patient_id+'/'+week)\n",
    "        scan= load_scan(dicom_path+'/'+patient_id+'/'+week[0:2])\n",
    "        center_scan, center_contour=center_slice(scan, contour)\n",
    "        crop_scan,crop_contour= crop_centroid(center_scan, center_contour,64)\n",
    "        nrrd.write(\"Contour-\"+patient_id+\"-\"+week[0:2]+ \".nrrd\", crop_contour)\n",
    "        nrrd.write(\"Scan-\"+patient_id+\"-\"+week[0:2]+ \".nrrd\", crop_scan)\n",
    "        print(\"Done\")\n",
    "        "
   ]
  },
  {
   "cell_type": "code",
   "execution_count": 234,
   "id": "e33334a9",
   "metadata": {
    "scrolled": false
   },
   "outputs": [
    {
     "name": "stdout",
     "output_type": "stream",
     "text": [
      "1049397\n"
     ]
    },
    {
     "data": {
      "image/png": "[encoded data removed]",
      "text/plain": [
       "<PIL.Image.Image image mode=L size=64x64 at 0x25A8D418640>"
      ]
     },
     "metadata": {},
     "output_type": "display_data"
    },
    {
     "data": {
      "image/png": "[encoded data removed]",
      "text/plain": [
       "<PIL.Image.Image image mode=L size=64x64 at 0x25A8D418760>"
      ]
     },
     "metadata": {},
     "output_type": "display_data"
    },
    {
     "name": "stdout",
     "output_type": "stream",
     "text": [
      "2139028\n"
     ]
    },
    {
     "data": {
      "image/png": "[encoded data removed]",
      "text/plain": [
       "<PIL.Image.Image image mode=L size=64x64 at 0x25A8D4180A0>"
      ]
     },
     "metadata": {},
     "output_type": "display_data"
    },
    {
     "data": {
      "image/png": "[encoded data removed]",
      "text/plain": [
       "<PIL.Image.Image image mode=L size=64x64 at 0x25A8D4185B0>"
      ]
     },
     "metadata": {},
     "output_type": "display_data"
    },
    {
     "name": "stdout",
     "output_type": "stream",
     "text": [
      "2377620\n"
     ]
    },
    {
     "data": {
      "image/png": "[encoded data removed]",
      "text/plain": [
       "<PIL.Image.Image image mode=L size=64x64 at 0x25A8D4180D0>"
      ]
     },
     "metadata": {},
     "output_type": "display_data"
    },
    {
     "data": {
      "image/png": "[encoded data removed]",
      "text/plain": [
       "<PIL.Image.Image image mode=L size=64x64 at 0x25A8D418640>"
      ]
     },
     "metadata": {},
     "output_type": "display_data"
    },
    {
     "name": "stdout",
     "output_type": "stream",
     "text": [
      "2386449\n"
     ]
    },
    {
     "data": {
      "image/png": "[encoded data removed]",
      "text/plain": [
       "<PIL.Image.Image image mode=L size=64x64 at 0x25A8D4180A0>"
      ]
     },
     "metadata": {},
     "output_type": "display_data"
    },
    {
     "data": {
      "image/png": "[encoded data removed]",
      "text/plain": [
       "<PIL.Image.Image image mode=L size=64x64 at 0x25A8D4180D0>"
      ]
     },
     "metadata": {},
     "output_type": "display_data"
    },
    {
     "name": "stdout",
     "output_type": "stream",
     "text": [
      "2403028\n"
     ]
    },
    {
     "data": {
      "image/png": "[encoded data removed]",
      "text/plain": [
       "<PIL.Image.Image image mode=L size=64x64 at 0x25A8D418760>"
      ]
     },
     "metadata": {},
     "output_type": "display_data"
    },
    {
     "data": {
      "image/png": "[encoded data removed]",
      "text/plain": [
       "<PIL.Image.Image image mode=L size=64x64 at 0x25A8D4185B0>"
      ]
     },
     "metadata": {},
     "output_type": "display_data"
    },
    {
     "name": "stdout",
     "output_type": "stream",
     "text": [
      "2413785\n"
     ]
    },
    {
     "data": {
      "image/png": "[encoded data removed]",
      "text/plain": [
       "<PIL.Image.Image image mode=L size=64x64 at 0x25A8D4180A0>"
      ]
     },
     "metadata": {},
     "output_type": "display_data"
    },
    {
     "data": {
      "image/png": "[encoded data removed]",
      "text/plain": [
       "<PIL.Image.Image image mode=L size=64x64 at 0x25A8D418640>"
      ]
     },
     "metadata": {},
     "output_type": "display_data"
    },
    {
     "name": "stdout",
     "output_type": "stream",
     "text": [
      "2419611\n"
     ]
    },
    {
     "data": {
      "image/png": "[encoded data removed]",
      "text/plain": [
       "<PIL.Image.Image image mode=L size=64x64 at 0x25A8D418760>"
      ]
     },
     "metadata": {},
     "output_type": "display_data"
    },
    {
     "data": {
      "image/png": "[encoded data removed]",
      "text/plain": [
       "<PIL.Image.Image image mode=L size=64x64 at 0x25A8D4180D0>"
      ]
     },
     "metadata": {},
     "output_type": "display_data"
    },
    {
     "name": "stdout",
     "output_type": "stream",
     "text": [
      "2455275\n"
     ]
    },
    {
     "data": {
      "image/png": "[encoded data removed]",
      "text/plain": [
       "<PIL.Image.Image image mode=L size=64x64 at 0x25A8D4180A0>"
      ]
     },
     "metadata": {},
     "output_type": "display_data"
    },
    {
     "data": {
      "image/png": "[encoded data removed]",
      "text/plain": [
       "<PIL.Image.Image image mode=L size=64x64 at 0x25A8D418640>"
      ]
     },
     "metadata": {},
     "output_type": "display_data"
    },
    {
     "name": "stdout",
     "output_type": "stream",
     "text": [
      "2459017\n"
     ]
    },
    {
     "data": {
      "image/png": "[encoded data removed]",
      "text/plain": [
       "<PIL.Image.Image image mode=L size=64x64 at 0x25A8D4185B0>"
      ]
     },
     "metadata": {},
     "output_type": "display_data"
    },
    {
     "data": {
      "image/png": "[encoded data removed]",
      "text/plain": [
       "<PIL.Image.Image image mode=L size=64x64 at 0x25A8D418760>"
      ]
     },
     "metadata": {},
     "output_type": "display_data"
    },
    {
     "name": "stdout",
     "output_type": "stream",
     "text": [
      "2467000\n"
     ]
    },
    {
     "data": {
      "image/png": "[encoded data removed]",
      "text/plain": [
       "<PIL.Image.Image image mode=L size=64x64 at 0x25A8D4180A0>"
      ]
     },
     "metadata": {},
     "output_type": "display_data"
    },
    {
     "data": {
      "image/png": "[encoded data removed]",
      "text/plain": [
       "<PIL.Image.Image image mode=L size=64x64 at 0x25A8D4180D0>"
      ]
     },
     "metadata": {},
     "output_type": "display_data"
    },
    {
     "name": "stdout",
     "output_type": "stream",
     "text": [
      "2467929\n"
     ]
    },
    {
     "data": {
      "image/png": "[encoded data removed]",
      "text/plain": [
       "<PIL.Image.Image image mode=L size=64x64 at 0x25A8D4185B0>"
      ]
     },
     "metadata": {},
     "output_type": "display_data"
    },
    {
     "data": {
      "image/png": "[encoded data removed]",
      "text/plain": [
       "<PIL.Image.Image image mode=L size=64x64 at 0x25A8D418640>"
      ]
     },
     "metadata": {},
     "output_type": "display_data"
    },
    {
     "name": "stdout",
     "output_type": "stream",
     "text": [
      "2510278\n"
     ]
    },
    {
     "data": {
      "image/png": "[encoded data removed]",
      "text/plain": [
       "<PIL.Image.Image image mode=L size=64x64 at 0x25A8D4180A0>"
      ]
     },
     "metadata": {},
     "output_type": "display_data"
    },
    {
     "data": {
      "image/png": "[encoded data removed]",
      "text/plain": [
       "<PIL.Image.Image image mode=L size=64x64 at 0x25A8D4185B0>"
      ]
     },
     "metadata": {},
     "output_type": "display_data"
    },
    {
     "name": "stdout",
     "output_type": "stream",
     "text": [
      "2521725\n"
     ]
    },
    {
     "data": {
      "image/png": "[encoded data removed]",
      "text/plain": [
       "<PIL.Image.Image image mode=L size=64x64 at 0x25A8D4180D0>"
      ]
     },
     "metadata": {},
     "output_type": "display_data"
    },
    {
     "data": {
      "image/png": "[encoded data removed]",
      "text/plain": [
       "<PIL.Image.Image image mode=L size=64x64 at 0x25A8D4180A0>"
      ]
     },
     "metadata": {},
     "output_type": "display_data"
    },
    {
     "name": "stdout",
     "output_type": "stream",
     "text": [
      "2541392\n"
     ]
    },
    {
     "data": {
      "image/png": "[encoded data removed]",
      "text/plain": [
       "<PIL.Image.Image image mode=L size=64x64 at 0x25A8D418640>"
      ]
     },
     "metadata": {},
     "output_type": "display_data"
    },
    {
     "data": {
      "image/png": "[encoded data removed]",
      "text/plain": [
       "<PIL.Image.Image image mode=L size=64x64 at 0x25A8D418760>"
      ]
     },
     "metadata": {},
     "output_type": "display_data"
    },
    {
     "name": "stdout",
     "output_type": "stream",
     "text": [
      "2547570\n"
     ]
    },
    {
     "data": {
      "image/png": "[encoded data removed]",
      "text/plain": [
       "<PIL.Image.Image image mode=L size=64x64 at 0x25A8D4180D0>"
      ]
     },
     "metadata": {},
     "output_type": "display_data"
    },
    {
     "data": {
      "image/png": "[encoded data removed]",
      "text/plain": [
       "<PIL.Image.Image image mode=L size=64x64 at 0x25A8D4180A0>"
      ]
     },
     "metadata": {},
     "output_type": "display_data"
    },
    {
     "name": "stdout",
     "output_type": "stream",
     "text": [
      "2551521\n"
     ]
    },
    {
     "data": {
      "image/png": "[encoded data removed]",
      "text/plain": [
       "<PIL.Image.Image image mode=L size=64x64 at 0x25A8D4185B0>"
      ]
     },
     "metadata": {},
     "output_type": "display_data"
    },
    {
     "data": {
      "image/png": "[encoded data removed]",
      "text/plain": [
       "<PIL.Image.Image image mode=L size=64x64 at 0x25A8D418760>"
      ]
     },
     "metadata": {},
     "output_type": "display_data"
    },
    {
     "name": "stdout",
     "output_type": "stream",
     "text": [
      "2570357\n"
     ]
    },
    {
     "data": {
      "image/png": "[encoded data removed]",
      "text/plain": [
       "<PIL.Image.Image image mode=L size=64x64 at 0x25A8D418640>"
      ]
     },
     "metadata": {},
     "output_type": "display_data"
    },
    {
     "data": {
      "image/png": "[encoded data removed]",
      "text/plain": [
       "<PIL.Image.Image image mode=L size=64x64 at 0x25A8D4180D0>"
      ]
     },
     "metadata": {},
     "output_type": "display_data"
    },
    {
     "name": "stdout",
     "output_type": "stream",
     "text": [
      "2574697\n"
     ]
    },
    {
     "data": {
      "image/png": "[encoded data removed]",
      "text/plain": [
       "<PIL.Image.Image image mode=L size=64x64 at 0x25A8D4185B0>"
      ]
     },
     "metadata": {},
     "output_type": "display_data"
    },
    {
     "data": {
      "image/png": "[encoded data removed]",
      "text/plain": [
       "<PIL.Image.Image image mode=L size=64x64 at 0x25A8D418760>"
      ]
     },
     "metadata": {},
     "output_type": "display_data"
    },
    {
     "name": "stdout",
     "output_type": "stream",
     "text": [
      "2587907\n"
     ]
    },
    {
     "data": {
      "image/png": "[encoded data removed]",
      "text/plain": [
       "<PIL.Image.Image image mode=L size=64x64 at 0x25A8D4180D0>"
      ]
     },
     "metadata": {},
     "output_type": "display_data"
    },
    {
     "data": {
      "image/png": "[encoded data removed]",
      "text/plain": [
       "<PIL.Image.Image image mode=L size=64x64 at 0x25A8D418640>"
      ]
     },
     "metadata": {},
     "output_type": "display_data"
    },
    {
     "name": "stdout",
     "output_type": "stream",
     "text": [
      "2591335\n"
     ]
    },
    {
     "data": {
      "image/png": "[encoded data removed]",
      "text/plain": [
       "<PIL.Image.Image image mode=L size=64x64 at 0x25A8D4185B0>"
      ]
     },
     "metadata": {},
     "output_type": "display_data"
    },
    {
     "data": {
      "image/png": "[encoded data removed]",
      "text/plain": [
       "<PIL.Image.Image image mode=L size=64x64 at 0x25A8D4180A0>"
      ]
     },
     "metadata": {},
     "output_type": "display_data"
    },
    {
     "name": "stdout",
     "output_type": "stream",
     "text": [
      "2593206\n"
     ]
    },
    {
     "data": {
      "image/png": "[encoded data removed]",
      "text/plain": [
       "<PIL.Image.Image image mode=L size=64x64 at 0x25A8D4180D0>"
      ]
     },
     "metadata": {},
     "output_type": "display_data"
    },
    {
     "data": {
      "image/png": "[encoded data removed]",
      "text/plain": [
       "<PIL.Image.Image image mode=L size=64x64 at 0x25A8D418640>"
      ]
     },
     "metadata": {},
     "output_type": "display_data"
    },
    {
     "name": "stdout",
     "output_type": "stream",
     "text": [
      "2604993\n"
     ]
    },
    {
     "data": {
      "image/png": "[encoded data removed]",
      "text/plain": [
       "<PIL.Image.Image image mode=L size=64x64 at 0x25A8D418760>"
      ]
     },
     "metadata": {},
     "output_type": "display_data"
    },
    {
     "data": {
      "image/png": "[encoded data removed]",
      "text/plain": [
       "<PIL.Image.Image image mode=L size=64x64 at 0x25A8D4185B0>"
      ]
     },
     "metadata": {},
     "output_type": "display_data"
    },
    {
     "name": "stdout",
     "output_type": "stream",
     "text": [
      "2609170\n"
     ]
    },
    {
     "data": {
      "image/png": "[encoded data removed]",
      "text/plain": [
       "<PIL.Image.Image image mode=L size=64x64 at 0x25A8D4180D0>"
      ]
     },
     "metadata": {},
     "output_type": "display_data"
    },
    {
     "data": {
      "image/png": "[encoded data removed]",
      "text/plain": [
       "<PIL.Image.Image image mode=L size=64x64 at 0x25A8D4180A0>"
      ]
     },
     "metadata": {},
     "output_type": "display_data"
    },
    {
     "name": "stdout",
     "output_type": "stream",
     "text": [
      "862797\n"
     ]
    },
    {
     "data": {
      "image/png": "[encoded data removed]",
      "text/plain": [
       "<PIL.Image.Image image mode=L size=64x64 at 0x25A8D418760>"
      ]
     },
     "metadata": {},
     "output_type": "display_data"
    },
    {
     "data": {
      "image/png": "[encoded data removed]",
      "text/plain": [
       "<PIL.Image.Image image mode=L size=64x64 at 0x25A8D4185B0>"
      ]
     },
     "metadata": {},
     "output_type": "display_data"
    },
    {
     "name": "stdout",
     "output_type": "stream",
     "text": [
      "895844\n"
     ]
    },
    {
     "data": {
      "image/png": "[encoded data removed]",
      "text/plain": [
       "<PIL.Image.Image image mode=L size=64x64 at 0x25A8D418640>"
      ]
     },
     "metadata": {},
     "output_type": "display_data"
    },
    {
     "data": {
      "image/png": "[encoded data removed]",
      "text/plain": [
       "<PIL.Image.Image image mode=L size=64x64 at 0x25A8D4180D0>"
      ]
     },
     "metadata": {},
     "output_type": "display_data"
    }
   ],
   "source": [
    "contour_path = \"C:/Users/bvtran/OneDrive - Inside MD Anderson/Documents/MRL_data/RD_Slicer3D\"\n",
    "# dicom_path= \"C:/Users/bvtran/OneDrive - Inside MD Anderson/Documents/MRL_data/RD_Dicom\"\n",
    "dicom_path= \"Y:/DWI/\"\n",
    "for patient_id in os.listdir(contour_path):\n",
    "    print(patient_id)\n",
    "    crop_contour=load_contour(\"C:/Users/bvtran/OneDrive - Inside MD Anderson/Documents/MRL_scripts/Contour-\"+patient_id+\"-W1.nrrd\")\n",
    "    mask = np.expand_dims(crop_contour, axis=-1)\n",
    "    img = PIL.ImageOps.autocontrast(keras.preprocessing.image.array_to_img(mask))\n",
    "    display(img)\n",
    "    image_arr=crop_contour=load_contour(\"C:/Users/bvtran/OneDrive - Inside MD Anderson/Documents/MRL_scripts/Scan-\"+patient_id+\"-W1.nrrd\")\n",
    "    slices=np.expand_dims(image_arr, axis=-1)\n",
    "    img = PIL.ImageOps.autocontrast(keras.preprocessing.image.array_to_img(slices))\n",
    "    display(img)"
   ]
  },
  {
   "cell_type": "code",
   "execution_count": 230,
   "id": "5890ba25",
   "metadata": {},
   "outputs": [
    {
     "data": {
      "image/png": "[encoded data removed]",
      "text/plain": [
       "<PIL.Image.Image image mode=L size=64x64 at 0x25A8D17BC40>"
      ]
     },
     "metadata": {},
     "output_type": "display_data"
    }
   ],
   "source": [
    "image_arr=crop_contour=load_contour(\"C:/Users/bvtran/OneDrive - Inside MD Anderson/Documents/MRL_scripts/Scan-2139028-W1.nrrd\")\n",
    "slices=np.expand_dims(image_arr, axis=-1)\n",
    "img = PIL.ImageOps.autocontrast(keras.preprocessing.image.array_to_img(slices))\n",
    "display(img)"
   ]
  },
  {
   "cell_type": "code",
   "execution_count": 1,
   "id": "b253770d",
   "metadata": {},
   "outputs": [],
   "source": [
    "from scipy.ndimage import zoom\n",
    "\n",
    "\n",
    "def clipped_zoom(img, zoom_factor, **kwargs):\n",
    "\n",
    "    h, w = img.shape[:2]\n",
    "\n",
    "    # For multichannel images we don't want to apply the zoom factor to the RGB\n",
    "    # dimension, so instead we create a tuple of zoom factors, one per array\n",
    "    # dimension, with 1's for any trailing dimensions after the width and height.\n",
    "    zoom_tuple = (zoom_factor,) * 2 + (1,) * (img.ndim - 2)\n",
    "\n",
    "    # Zooming out\n",
    "    if zoom_factor < 1:\n",
    "\n",
    "        # Bounding box of the zoomed-out image within the output array\n",
    "        zh = int(np.round(h * zoom_factor))\n",
    "        zw = int(np.round(w * zoom_factor))\n",
    "        top = (h - zh) // 2\n",
    "        left = (w - zw) // 2\n",
    "\n",
    "        # Zero-padding\n",
    "        out = np.zeros_like(img)\n",
    "        out[top:top+zh, left:left+zw] = zoom(img, zoom_tuple, **kwargs)\n",
    "\n",
    "    # Zooming in\n",
    "    elif zoom_factor > 1:\n",
    "\n",
    "        # Bounding box of the zoomed-in region within the input array\n",
    "        zh = int(np.round(h / zoom_factor))\n",
    "        zw = int(np.round(w / zoom_factor))\n",
    "        top = (h - zh) // 2\n",
    "        left = (w - zw) // 2\n",
    "\n",
    "        out = zoom(img[top:top+zh, left:left+zw], zoom_tuple, **kwargs)\n",
    "\n",
    "        # `out` might still be slightly larger than `img` due to rounding, so\n",
    "        # trim off any extra pixels at the edges\n",
    "        trim_top = ((out.shape[0] - h) // 2)\n",
    "        trim_left = ((out.shape[1] - w) // 2)\n",
    "        out = out[trim_top:trim_top+h, trim_left:trim_left+w]\n",
    "\n",
    "    # If zoom_factor == 1, just return the input array\n",
    "    else:\n",
    "        out = img\n",
    "    return out"
   ]
  }
 ],
 "metadata": {
  "kernelspec": {
   "display_name": "Python 3 (ipykernel)",
   "language": "python",
   "name": "python3"
  },
  "language_info": {
   "codemirror_mode": {
    "name": "ipython",
    "version": 3
   },
   "file_extension": ".py",
   "mimetype": "text/x-python",
   "name": "python",
   "nbconvert_exporter": "python",
   "pygments_lexer": "ipython3",
   "version": "3.8.13"
  }
 },
 "nbformat": 4,
 "nbformat_minor": 5
}
