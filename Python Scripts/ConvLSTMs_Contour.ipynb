{
 "cells": [
  {
   "cell_type": "code",
   "execution_count": 1,
   "id": "4ef091ff",
   "metadata": {},
   "outputs": [],
   "source": [
    "import numpy as np\n",
    "import matplotlib.pyplot as plt\n",
    "import tensorflow as tf\n",
    "from tensorflow import keras\n",
    "from tensorflow.keras import layers\n",
    "import io\n",
    "import imageio\n",
    "from IPython.display import Image, display\n",
    "import nrrd\n",
    "import os\n",
    "import random"
   ]
  },
  {
   "cell_type": "code",
   "execution_count": 3,
   "id": "d223534c",
   "metadata": {},
   "outputs": [
    {
     "name": "stdout",
     "output_type": "stream",
     "text": [
      "Number of train samples: 15 :  ['2609170', '2467929', '2139028', '2419611', '2510278', '2467000', '862797', '2413785', '2403028', '2541392', '2604993', '2455275', '2386449', '1049397', '2593206']\n",
      "Number of test samples: 2 :  ['2377620', '2459017']\n"
     ]
    }
   ],
   "source": [
    "#Pick random train and val:\n",
    "path= 'C:/Users/bvtran/OneDrive - Inside MD Anderson/Documents/MRL_data/RD_Center_cropped'\n",
    "datadir= os.listdir(path)\n",
    "remove=['2521725','2570357','2574697','2587907','895844','2547570']\n",
    "for i in remove:\n",
    "    datadir.remove(i)\n",
    "train_dir=random.sample(datadir, 15)\n",
    "for i in range(len(train_dir)):\n",
    "    datadir.remove(train_dir[i])\n",
    "val_dir=random.sample(datadir, 2)\n",
    "train_path=[]\n",
    "val_path=[]\n",
    "for i in range(len(train_dir)):\n",
    "    train_path.append(path+'/'+str(train_dir[i]))\n",
    "for i in range(len(val_dir)):\n",
    "    val_path.append(path+'/'+str(val_dir[i]))    \n",
    "print(\"Number of train samples:\", len(train_dir),\": \",train_dir)\n",
    "print(\"Number of test samples:\", len(val_dir),\": \",val_dir)"
   ]
  },
  {
   "cell_type": "code",
   "execution_count": 4,
   "id": "2c716cbd",
   "metadata": {},
   "outputs": [
    {
     "name": "stdout",
     "output_type": "stream",
     "text": [
      "Number of test samples: 2 :  ['2377620', '2459017']\n"
     ]
    }
   ],
   "source": [
    "#Pick random train and val:\n",
    "path= 'C:/Users/bvtran/OneDrive - Inside MD Anderson/Documents/MRL_data/RD_Center_cropped'\n",
    "val_dir=['2377620', '2459017']\n",
    "val_path=[]\n",
    "for i in range(len(val_dir)):\n",
    "    val_path.append(path+'/'+str(val_dir[i]))    \n",
    "print(\"Number of test samples:\", len(val_dir),\": \",val_dir)"
   ]
  },
  {
   "cell_type": "code",
   "execution_count": 10,
   "id": "d8908d4d",
   "metadata": {},
   "outputs": [
    {
     "name": "stdout",
     "output_type": "stream",
     "text": [
      "Validation Dataset Shapes: (2, 3, 64, 64, 1), (2, 3, 64, 64, 1)\n"
     ]
    }
   ],
   "source": [
    "#Get training and val data:\n",
    "img_size=(64,64)\n",
    "val_dataset=get_data(val_path,img_size)\n",
    "\n",
    "# We'll define a helper function to shift the frames, where\n",
    "# `x` is frames 0 to n - 1, and `y` is frames 1 to n.\n",
    "def create_shifted_frames(data):\n",
    "    x = data[:, 0 : data.shape[1] - 1, :, :]\n",
    "    y = data[:, 1 : data.shape[1], :, :]\n",
    "    return x, y\n",
    "\n",
    "# Apply the processing function to the datasets.\n",
    "x_val, y_val = create_shifted_frames(val_dataset)\n",
    "\n",
    "# Inspect the dataset.\n",
    "print(\"Validation Dataset Shapes: \" + str(x_val.shape) + \", \" + str(y_val.shape))"
   ]
  },
  {
   "cell_type": "code",
   "execution_count": 8,
   "id": "4eac6022",
   "metadata": {},
   "outputs": [],
   "source": [
    "from scipy.ndimage import zoom\n",
    "\n",
    "\n",
    "def clipped_zoom(img, zoom_factor, **kwargs):\n",
    "\n",
    "    h, w = img.shape[:2]\n",
    "\n",
    "    # For multichannel images we don't want to apply the zoom factor to the RGB\n",
    "    # dimension, so instead we create a tuple of zoom factors, one per array\n",
    "    # dimension, with 1's for any trailing dimensions after the width and height.\n",
    "    zoom_tuple = (zoom_factor,) * 2 + (1,) * (img.ndim - 2)\n",
    "\n",
    "    # Zooming out\n",
    "    if zoom_factor < 1:\n",
    "\n",
    "        # Bounding box of the zoomed-out image within the output array\n",
    "        zh = int(np.round(h * zoom_factor))\n",
    "        zw = int(np.round(w * zoom_factor))\n",
    "        top = (h - zh) // 2\n",
    "        left = (w - zw) // 2\n",
    "\n",
    "        # Zero-padding\n",
    "        out = np.zeros_like(img)\n",
    "        out[top:top+zh, left:left+zw] = zoom(img, zoom_tuple, **kwargs)\n",
    "\n",
    "    # Zooming in\n",
    "    elif zoom_factor > 1:\n",
    "\n",
    "        # Bounding box of the zoomed-in region within the input array\n",
    "        zh = int(np.round(h / zoom_factor))\n",
    "        zw = int(np.round(w / zoom_factor))\n",
    "        top = (h - zh) // 2\n",
    "        left = (w - zw) // 2\n",
    "\n",
    "        out = zoom(img[top:top+zh, left:left+zw], zoom_tuple, **kwargs)\n",
    "\n",
    "        # `out` might still be slightly larger than `img` due to rounding, so\n",
    "        # trim off any extra pixels at the edges\n",
    "        trim_top = ((out.shape[0] - h) // 2)\n",
    "        trim_left = ((out.shape[1] - w) // 2)\n",
    "        out = out[trim_top:trim_top+h, trim_left:trim_left+w]\n",
    "\n",
    "    # If zoom_factor == 1, just return the input array\n",
    "    else:\n",
    "        out = img\n",
    "    return out"
   ]
  },
  {
   "cell_type": "code",
   "execution_count": 9,
   "id": "0e4dc58a",
   "metadata": {},
   "outputs": [],
   "source": [
    "def get_data(data_path,img_size):\n",
    "    size=len(data_path)\n",
    "    data = np.zeros((size,4,) + img_size + (1,))\n",
    "    for i in range(size):\n",
    "        path= os.listdir(data_path[i])\n",
    "        Contour_path=[]\n",
    "        for j in range(len(path)):\n",
    "            if (\"Contour\" in path[j])==True:\n",
    "                Contour_path.append(path[j])\n",
    "        contours=[]\n",
    "        for index in [0,1,2,-1]:\n",
    "            contour, header = nrrd.read(data_path[i]+'/'+Contour_path[index])\n",
    "            contour = clipped_zoom(contour, 2)\n",
    "            contours.append(contour)\n",
    "        contours=np.array(contours)\n",
    "        data[i]=np.expand_dims(contours, 3)\n",
    "    return data"
   ]
  },
  {
   "cell_type": "code",
   "execution_count": 6,
   "id": "5dd9d55e",
   "metadata": {},
   "outputs": [
    {
     "name": "stdout",
     "output_type": "stream",
     "text": [
      "Training Dataset Shapes: (15, 3, 64, 64, 1), (15, 3, 64, 64, 1)\n",
      "Validation Dataset Shapes: (2, 3, 64, 64, 1), (2, 3, 64, 64, 1)\n"
     ]
    }
   ],
   "source": [
    "#Get training and val data:\n",
    "img_size=(64,64)\n",
    "train_dataset=get_data(train_path,img_size)\n",
    "val_dataset=get_data(val_path,img_size)\n",
    "\n",
    "# We'll define a helper function to shift the frames, where\n",
    "# `x` is frames 0 to n - 1, and `y` is frames 1 to n.\n",
    "def create_shifted_frames(data):\n",
    "    x = data[:, 0 : data.shape[1] - 1, :, :]\n",
    "    y = data[:, 1 : data.shape[1], :, :]\n",
    "    return x, y\n",
    "\n",
    "# Apply the processing function to the datasets.\n",
    "x_train, y_train = create_shifted_frames(train_dataset)\n",
    "x_val, y_val = create_shifted_frames(val_dataset)\n",
    "\n",
    "# Inspect the dataset.\n",
    "print(\"Training Dataset Shapes: \" + str(x_train.shape) + \", \" + str(y_train.shape))\n",
    "print(\"Validation Dataset Shapes: \" + str(x_val.shape) + \", \" + str(y_val.shape))"
   ]
  },
  {
   "cell_type": "code",
   "execution_count": 7,
   "id": "f535b79b",
   "metadata": {},
   "outputs": [
    {
     "name": "stdout",
     "output_type": "stream",
     "text": [
      "Displaying frames for example 5.\n"
     ]
    },
    {
     "data": {
      "image/png": "[encoded data removed]",
      "text/plain": [
       "<Figure size 720x576 with 4 Axes>"
      ]
     },
     "metadata": {
      "needs_background": "light"
     },
     "output_type": "display_data"
    }
   ],
   "source": [
    "# Construct a figure on which we will visualize the images.\n",
    "fig, axes = plt.subplots(1, 4, figsize=(10, 8))\n",
    "\n",
    "# Plot each of the sequential images for one random data example.\n",
    "data_choice = np.random.choice(range(len(train_dataset)), size=1)[0]\n",
    "for idx, ax in enumerate(axes.flat):\n",
    "    ax.imshow(np.squeeze(train_dataset[data_choice][idx]), cmap=\"gray\")\n",
    "    ax.set_title(f\"Frame {idx + 1}\")\n",
    "    ax.axis(\"off\")\n",
    "\n",
    "# Print information and display the figure.\n",
    "print(f\"Displaying frames for example {data_choice}.\")\n",
    "plt.show()"
   ]
  },
  {
   "cell_type": "code",
   "execution_count": 8,
   "id": "f5121f9d",
   "metadata": {},
   "outputs": [
    {
     "name": "stdout",
     "output_type": "stream",
     "text": [
      "Model: \"functional_1\"\n",
      "_________________________________________________________________\n",
      "Layer (type)                 Output Shape              Param #   \n",
      "=================================================================\n",
      "input_1 (InputLayer)         [(None, None, 64, 64, 1)] 0         \n",
      "_________________________________________________________________\n",
      "conv_lst_m2d (ConvLSTM2D)    (None, None, 64, 64, 64)  416256    \n",
      "_________________________________________________________________\n",
      "batch_normalization (BatchNo (None, None, 64, 64, 64)  256       \n",
      "_________________________________________________________________\n",
      "conv_lst_m2d_1 (ConvLSTM2D)  (None, None, 64, 64, 64)  295168    \n",
      "_________________________________________________________________\n",
      "batch_normalization_1 (Batch (None, None, 64, 64, 64)  256       \n",
      "_________________________________________________________________\n",
      "conv_lst_m2d_2 (ConvLSTM2D)  (None, None, 64, 64, 64)  33024     \n",
      "_________________________________________________________________\n",
      "conv3d (Conv3D)              (None, None, 64, 64, 1)   1729      \n",
      "=================================================================\n",
      "Total params: 746,689\n",
      "Trainable params: 746,433\n",
      "Non-trainable params: 256\n",
      "_________________________________________________________________\n"
     ]
    }
   ],
   "source": [
    "# Construct the input layer with no definite frame size.\n",
    "inp = layers.Input(shape=(None, *x_train.shape[2:]))\n",
    "\n",
    "# We will construct 3 `ConvLSTM2D` layers with batch normalization,\n",
    "# followed by a `Conv3D` layer for the spatiotemporal outputs.\n",
    "x = layers.ConvLSTM2D(\n",
    "    filters=64,\n",
    "    kernel_size=(5, 5),\n",
    "    padding=\"same\",\n",
    "    return_sequences=True,\n",
    "    activation=\"relu\",\n",
    ")(inp)\n",
    "x = layers.BatchNormalization()(x)\n",
    "x = layers.ConvLSTM2D(\n",
    "    filters=64,\n",
    "    kernel_size=(3, 3),\n",
    "    padding=\"same\",\n",
    "    return_sequences=True,\n",
    "    activation=\"relu\",\n",
    ")(x)\n",
    "x = layers.BatchNormalization()(x)\n",
    "x = layers.ConvLSTM2D(\n",
    "    filters=64,\n",
    "    kernel_size=(1, 1),\n",
    "    padding=\"same\",\n",
    "    return_sequences=True,\n",
    "    activation=\"relu\",\n",
    ")(x)\n",
    "x = layers.Conv3D(\n",
    "    filters=1, kernel_size=(3, 3, 3), activation=\"sigmoid\", padding=\"same\"\n",
    ")(x)\n",
    "\n",
    "# Next, we will build the complete model and compile it.\n",
    "model = keras.models.Model(inp, x)\n",
    "model.compile(\n",
    "    loss=keras.losses.binary_crossentropy, optimizer=keras.optimizers.Adam(),\n",
    ")\n",
    "model.summary()"
   ]
  },
  {
   "cell_type": "code",
   "execution_count": 49,
   "id": "84c48b74",
   "metadata": {},
   "outputs": [
    {
     "name": "stdout",
     "output_type": "stream",
     "text": [
      "Epoch 1/25\n",
      "3/3 [==============================] - 10s 3s/step - loss: 0.0269 - val_loss: 0.3747\n",
      "Epoch 2/25\n",
      "3/3 [==============================] - 9s 3s/step - loss: 0.0276 - val_loss: 0.3706\n",
      "Epoch 3/25\n",
      "3/3 [==============================] - 15s 5s/step - loss: 0.0265 - val_loss: 0.3664\n",
      "Epoch 4/25\n",
      "3/3 [==============================] - 12s 4s/step - loss: 0.0258 - val_loss: 0.3640\n",
      "Epoch 5/25\n",
      "3/3 [==============================] - 13s 4s/step - loss: 0.0277 - val_loss: 0.3625\n",
      "Epoch 6/25\n",
      "3/3 [==============================] - 12s 4s/step - loss: 0.0271 - val_loss: 0.3609\n",
      "Epoch 7/25\n",
      "3/3 [==============================] - 10s 3s/step - loss: 0.0248 - val_loss: 0.3588\n",
      "Epoch 8/25\n",
      "3/3 [==============================] - 11s 4s/step - loss: 0.0250 - val_loss: 0.3558\n",
      "Epoch 9/25\n",
      "3/3 [==============================] - 11s 4s/step - loss: 0.0246 - val_loss: 0.3545\n",
      "Epoch 10/25\n",
      "3/3 [==============================] - 12s 4s/step - loss: 0.0249 - val_loss: 0.3527\n",
      "Epoch 11/25\n",
      "3/3 [==============================] - 12s 4s/step - loss: 0.0239 - val_loss: 0.3516\n",
      "Epoch 12/25\n",
      "3/3 [==============================] - 12s 4s/step - loss: 0.0236 - val_loss: 0.3502\n",
      "Epoch 13/25\n",
      "3/3 [==============================] - 14s 5s/step - loss: 0.0223 - val_loss: 0.3475\n",
      "Epoch 14/25\n",
      "3/3 [==============================] - 14s 5s/step - loss: 0.0225 - val_loss: 0.3460\n",
      "Epoch 15/25\n",
      "3/3 [==============================] - 14s 5s/step - loss: 0.0213 - val_loss: 0.3445\n",
      "Epoch 16/25\n",
      "3/3 [==============================] - 13s 4s/step - loss: 0.0218 - val_loss: 0.3434\n",
      "Epoch 17/25\n",
      "3/3 [==============================] - 11s 4s/step - loss: 0.0215 - val_loss: 0.3446\n",
      "Epoch 18/25\n",
      "3/3 [==============================] - 14s 5s/step - loss: 0.0213 - val_loss: 0.3451\n",
      "Epoch 19/25\n",
      "3/3 [==============================] - 13s 4s/step - loss: 0.0198 - val_loss: 0.3449\n",
      "Epoch 20/25\n",
      "3/3 [==============================] - 10s 3s/step - loss: 0.0201 - val_loss: 0.3430\n",
      "Epoch 21/25\n",
      "3/3 [==============================] - 10s 3s/step - loss: 0.0193 - val_loss: 0.3440\n",
      "Epoch 22/25\n",
      "3/3 [==============================] - 10s 3s/step - loss: 0.0199 - val_loss: 0.3455\n",
      "Epoch 23/25\n",
      "3/3 [==============================] - 13s 4s/step - loss: 0.0204 - val_loss: 0.3505\n",
      "Epoch 24/25\n",
      "3/3 [==============================] - 11s 4s/step - loss: 0.0202 - val_loss: 0.3506\n",
      "Epoch 25/25\n",
      "3/3 [==============================] - 10s 3s/step - loss: 0.0214 - val_loss: 0.3485\n"
     ]
    },
    {
     "data": {
      "text/plain": [
       "<tensorflow.python.keras.callbacks.History at 0x1ad4a5a9430>"
      ]
     },
     "execution_count": 49,
     "metadata": {},
     "output_type": "execute_result"
    }
   ],
   "source": [
    "# Define some callbacks to improve training.\n",
    "early_stopping = keras.callbacks.EarlyStopping(monitor=\"val_loss\", patience=10)\n",
    "reduce_lr = keras.callbacks.ReduceLROnPlateau(monitor=\"val_loss\", patience=5)\n",
    "\n",
    "# Define modifiable training hyperparameters.\n",
    "epochs = 25\n",
    "batch_size = 5\n",
    "\n",
    "# Fit the model to the training data.\n",
    "model.fit(\n",
    "    x_train,\n",
    "    y_train,\n",
    "    batch_size=batch_size,\n",
    "    epochs=epochs,\n",
    "    validation_data=(x_val, y_val),\n",
    "    callbacks=[early_stopping, reduce_lr],\n",
    ")"
   ]
  },
  {
   "cell_type": "code",
   "execution_count": 62,
   "id": "8fcd1c1e",
   "metadata": {
    "scrolled": false
   },
   "outputs": [
    {
     "data": {
      "image/png": "[encoded data removed]",
      "text/plain": [
       "<Figure size 720x720 with 2 Axes>"
      ]
     },
     "metadata": {
      "needs_background": "light"
     },
     "output_type": "display_data"
    },
    {
     "data": {
      "image/png": "[encoded data removed]",
      "text/plain": [
       "<Figure size 720x720 with 2 Axes>"
      ]
     },
     "metadata": {
      "needs_background": "light"
     },
     "output_type": "display_data"
    }
   ],
   "source": [
    "mask_predict=[]\n",
    "mask_gt=[]\n",
    "for i in range(len(val_dir)):\n",
    "    example= val_dataset[i]\n",
    "    # Pick the first/last ten frames from the example.\n",
    "    frames = example[:3, ...]\n",
    "    original_frames = example[3]\n",
    "    original_frame=np.squeeze(original_frames)\n",
    "    mask_gt.append(original_frame)\n",
    "    \n",
    "    # Predict a new frame.\n",
    "    # Extract the model's prediction and post-process it.\n",
    "    new_prediction = model.predict(np.expand_dims(frames, axis=0))\n",
    "    new_prediction = np.squeeze(new_prediction, axis=0)\n",
    "    predicted_frame = np.squeeze(new_prediction[-1, ...], axis=2)\n",
    "    for x in range(64):\n",
    "        for y in range(64):\n",
    "            if predicted_frame[x,y]>0.19:\n",
    "                predicted_frame[x,y]=1\n",
    "            else:\n",
    "                predicted_frame[x,y]=0\n",
    "    mask_predict.append(predicted_frame)\n",
    "    # Construct a figure for the original and new frames.\n",
    "    fig, axes = plt.subplots(1, 2, figsize=(10, 10))\n",
    "    axes[0].imshow(original_frame, cmap=\"gray\")\n",
    "    axes[0].set_title(f\"Ground Truth: {val_dir[i]}\")\n",
    "#     axes[0].axis(\"off\")\n",
    "    axes[1].imshow(predicted_frame, cmap=\"gray\")\n",
    "    axes[1].set_title(f\"Predicted: {val_dir[i]}\")\n",
    "#     axes[1].axis(\"off\")\n",
    "    plt.show()"
   ]
  },
  {
   "cell_type": "code",
   "execution_count": 13,
   "id": "cafedbec",
   "metadata": {},
   "outputs": [
    {
     "data": {
      "image/png": "[encoded data removed]",
      "text/plain": [
       "<Figure size 360x360 with 1 Axes>"
      ]
     },
     "metadata": {
      "needs_background": "light"
     },
     "output_type": "display_data"
    },
    {
     "data": {
      "image/png": "[encoded data removed]",
      "text/plain": [
       "<Figure size 360x360 with 1 Axes>"
      ]
     },
     "metadata": {
      "needs_background": "light"
     },
     "output_type": "display_data"
    }
   ],
   "source": [
    "mask_gt=[]\n",
    "for i in range(len(val_dir)):\n",
    "    example= val_dataset[i]\n",
    "    # Pick the first/last ten frames from the example.\n",
    "    frames = example[:3, ...]\n",
    "    original_frames = example[0]\n",
    "    original_frame=np.squeeze(original_frames)\n",
    "    mask_gt.append(original_frame)\n",
    "    \n",
    "\n",
    "    # Construct a figure for the original and new frames.\n",
    "    fig, axes = plt.subplots(1, 1, figsize=(5, 5))\n",
    "    axes.imshow(original_frame, cmap=\"gray\")\n",
    "    plt.show()"
   ]
  },
  {
   "cell_type": "code",
   "execution_count": 203,
   "id": "5ec10417",
   "metadata": {
    "scrolled": true
   },
   "outputs": [
    {
     "name": "stdout",
     "output_type": "stream",
     "text": [
      "INFO:tensorflow:Assets written to: C:/Users/bvtran/OneDrive - Inside MD Anderson/Documents/MRL_data/python_code\\assets\n"
     ]
    }
   ],
   "source": [
    "model.save('C:/Users/bvtran/OneDrive - Inside MD Anderson/Documents/MRL_data/python_code')"
   ]
  },
  {
   "cell_type": "code",
   "execution_count": 63,
   "id": "169e3cfc",
   "metadata": {},
   "outputs": [],
   "source": [
    "def DICE_COE(mask1, mask2):\n",
    "    intersect = np.sum(mask1*mask2)\n",
    "    fsum = np.sum(mask1)\n",
    "    ssum = np.sum(mask2)\n",
    "    dice = (2 * intersect ) / (fsum + ssum)\n",
    "    dice = np.mean(dice)\n",
    "    dice = round(dice, 3) # for easy reading\n",
    "    return dice"
   ]
  },
  {
   "cell_type": "code",
   "execution_count": 64,
   "id": "af0cfd92",
   "metadata": {},
   "outputs": [
    {
     "data": {
      "text/plain": [
       "[0.56, 0.739]"
      ]
     },
     "execution_count": 64,
     "metadata": {},
     "output_type": "execute_result"
    }
   ],
   "source": [
    "dice=[]\n",
    "for i in range(2):\n",
    "    dice.append(DICE_COE(mask_gt[i],mask_predict[i]))\n",
    "dice"
   ]
  },
  {
   "cell_type": "code",
   "execution_count": 46,
   "id": "6c62153c",
   "metadata": {},
   "outputs": [],
   "source": [
    "nrrd.write(\"LSTM_predictions\",np.array(mask_predict))"
   ]
  },
  {
   "cell_type": "code",
   "execution_count": 47,
   "id": "a9436f1b",
   "metadata": {},
   "outputs": [],
   "source": [
    "nrrd.write(\"mask_gt\",np.array(mask_gt))"
   ]
  }
 ],
 "metadata": {
  "kernelspec": {
   "display_name": "Python 3 (ipykernel)",
   "language": "python",
   "name": "python3"
  },
  "language_info": {
   "codemirror_mode": {
    "name": "ipython",
    "version": 3
   },
   "file_extension": ".py",
   "mimetype": "text/x-python",
   "name": "python",
   "nbconvert_exporter": "python",
   "pygments_lexer": "ipython3",
   "version": "3.8.13"
  }
 },
 "nbformat": 4,
 "nbformat_minor": 5
}
