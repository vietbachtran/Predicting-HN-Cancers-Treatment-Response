{
 "cells": [
  {
   "cell_type": "code",
   "execution_count": 46,
   "id": "a871588e",
   "metadata": {},
   "outputs": [],
   "source": [
    "import numpy as np\n",
    "import matplotlib.pyplot as plt\n",
    "import nrrd\n",
    "from scipy import stats\n",
    "from scipy.spatial.distance import jaccard\n",
    "from sklearn.metrics import jaccard_score\n",
    "import statistics "
   ]
  },
  {
   "cell_type": "code",
   "execution_count": 12,
   "id": "a181b688",
   "metadata": {},
   "outputs": [],
   "source": [
    "mask_gt,header=nrrd.read('C:/Users/bvtran/OneDrive - Inside MD Anderson/Documents/MRL_scripts/mask_gt')\n",
    "mask_LSTM,header=nrrd.read('C:/Users/bvtran/OneDrive - Inside MD Anderson/Documents/MRL_scripts/LSTM_predictions')\n",
    "mask_Unet,header=nrrd.read('C:/Users/bvtran/OneDrive - Inside MD Anderson/Documents/MRL_scripts/Unet_predictions')"
   ]
  },
  {
   "cell_type": "code",
   "execution_count": 19,
   "id": "e4dfe6f6",
   "metadata": {},
   "outputs": [],
   "source": [
    "def DICE_COE(mask1, mask2):\n",
    "    intersect = np.sum(mask1*mask2)\n",
    "    fsum = np.sum(mask1)\n",
    "    ssum = np.sum(mask2)\n",
    "    dice = (2 * intersect ) / (fsum + ssum)\n",
    "    dice = np.mean(dice)\n",
    "    dice = round(dice, 3) # for easy reading\n",
    "    return dice"
   ]
  },
  {
   "cell_type": "code",
   "execution_count": 40,
   "id": "6c8107eb",
   "metadata": {},
   "outputs": [],
   "source": [
    "dice_LSTM=[]\n",
    "jaccard_LSTM=[]\n",
    "for i in range(len(mask_LSTM)):\n",
    "    dice_LSTM.append(DICE_COE(mask_gt[i],mask_LSTM[i]))\n",
    "    jaccard_LSTM.append(jaccard_score(mask_gt[i].flatten(),mask_LSTM[i].flatten()))\n",
    "    \n",
    "dice_Unet=[]\n",
    "jaccard_Unet=[]\n",
    "for i in range(len(mask_Unet)):\n",
    "    dice_Unet.append(DICE_COE(mask_gt[i],mask_Unet[i]))\n",
    "    jaccard_Unet.append(jaccard_score(mask_gt[i].flatten(),mask_Unet[i].flatten()))"
   ]
  },
  {
   "cell_type": "code",
   "execution_count": 50,
   "id": "8314fe5e",
   "metadata": {
    "scrolled": true
   },
   "outputs": [],
   "source": [
    "#Find means and stdev:\n",
    "mean_dice_LSTM=round(statistics.mean(dice_LSTM),3)\n",
    "stdev_dice_LSTM=round(statistics.stdev(dice_LSTM),3)\n",
    "mean_jaccard_LSTM=round(statistics.mean(jaccard_LSTM),3)\n",
    "stdev_jaccard_LSTM=round(statistics.stdev(jaccard_LSTM),3)\n",
    "\n",
    "mean_dice_Unet=round(statistics.mean(dice_Unet),3)\n",
    "stdev_dice_Unet=round(statistics.stdev(dice_Unet),3)\n",
    "mean_jaccard_Unet=round(statistics.mean(jaccard_Unet),3)\n",
    "stdev_jaccard_Unet=round(statistics.stdev(jaccard_Unet),3)"
   ]
  },
  {
   "cell_type": "code",
   "execution_count": 57,
   "id": "454e65df",
   "metadata": {},
   "outputs": [],
   "source": [
    "#T-test:\n",
    "ttest_dice=round(stats.ttest_ind(dice_LSTM, dice_Unet).pvalue,3)\n",
    "ttest_jaccard=round(stats.ttest_ind(jaccard_LSTM, jaccard_Unet).pvalue,3)"
   ]
  },
  {
   "cell_type": "code",
   "execution_count": 78,
   "id": "8937b2d4",
   "metadata": {},
   "outputs": [
    {
     "data": {
      "text/plain": [
       "0.697"
      ]
     },
     "execution_count": 78,
     "metadata": {},
     "output_type": "execute_result"
    }
   ],
   "source": [
    "ttest_jaccard"
   ]
  },
  {
   "cell_type": "code",
   "execution_count": 77,
   "id": "1aaf5421",
   "metadata": {},
   "outputs": [
    {
     "data": {
      "image/png": "[encoded data removed]",
      "text/plain": [
       "<Figure size 432x288 with 1 Axes>"
      ]
     },
     "metadata": {
      "needs_background": "light"
     },
     "output_type": "display_data"
    }
   ],
   "source": [
    "Dice =[mean_dice_Unet,mean_dice_LSTM]\n",
    "Jaccard = [mean_jaccard_Unet,mean_jaccard_LSTM]\n",
    "width = 0.2\n",
    "x = np.arange(2)\n",
    "error_dice=[stdev_dice_Unet,stdev_dice_LSTM]\n",
    "error_jaccard=[stdev_jaccard_Unet,stdev_jaccard_LSTM]\n",
    "# plot data in grouped manner of bar type\n",
    "plt.bar(x-0.1, Dice,width,yerr=error_dice, color='orange',capsize=10)\n",
    "plt.bar(x+0.1, Jaccard,width,yerr=error_jaccard, color='blue',capsize=10)\n",
    "plt.xticks(x, [\"Dice\",\"Jaccard\"])\n",
    "plt.xlabel(\"Accuracy metrics\")\n",
    "plt.legend([\"U-net CNN\", \"ConvLSTM\"])\n",
    "plt.show()"
   ]
  },
  {
   "cell_type": "code",
   "execution_count": 71,
   "id": "e5784bce",
   "metadata": {},
   "outputs": [
    {
     "data": {
      "text/plain": [
       "[0.777, 0.741]"
      ]
     },
     "execution_count": 71,
     "metadata": {},
     "output_type": "execute_result"
    }
   ],
   "source": [
    "Dice"
   ]
  }
 ],
 "metadata": {
  "kernelspec": {
   "display_name": "Python 3 (ipykernel)",
   "language": "python",
   "name": "python3"
  },
  "language_info": {
   "codemirror_mode": {
    "name": "ipython",
    "version": 3
   },
   "file_extension": ".py",
   "mimetype": "text/x-python",
   "name": "python",
   "nbconvert_exporter": "python",
   "pygments_lexer": "ipython3",
   "version": "3.8.13"
  }
 },
 "nbformat": 4,
 "nbformat_minor": 5
}
