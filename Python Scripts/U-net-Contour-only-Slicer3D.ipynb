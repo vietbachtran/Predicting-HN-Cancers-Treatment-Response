{
 "cells": [
  {
   "cell_type": "code",
   "execution_count": 173,
   "id": "2e133328",
   "metadata": {},
   "outputs": [],
   "source": [
    "import os\n",
    "from tensorflow import keras\n",
    "import numpy as np\n",
    "from tensorflow.keras.preprocessing.image import load_img\n",
    "from IPython.display import Image, display\n",
    "from tensorflow.keras.preprocessing.image import load_img\n",
    "import PIL\n",
    "from PIL import ImageOps\n",
    "from PIL import Image\n",
    "import nrrd\n",
    "from keras.preprocessing.image import array_to_img\n",
    "from tensorflow.keras import layers\n",
    "import random\n",
    "import matplotlib.pyplot as plt\n",
    "import io\n",
    "import imageio\n",
    "from IPython.display import Image, display"
   ]
  },
  {
   "cell_type": "code",
   "execution_count": 128,
   "id": "fb6d4e8f",
   "metadata": {},
   "outputs": [],
   "source": [
    "num_classes = 2\n",
    "\n",
    "batch_size = 2\n",
    "\n",
    "img_size= (64,64)"
   ]
  },
  {
   "cell_type": "code",
   "execution_count": 148,
   "id": "2a06bf2b",
   "metadata": {
    "scrolled": true
   },
   "outputs": [
    {
     "name": "stdout",
     "output_type": "stream",
     "text": [
      "Number of train samples: 17 :  ['2609170', '2467000', '2459017', '2419611', '2413785', '2551521', '1049397', '2591335', '2541392', '2593206', '2386449', '2455275', '2139028', '2377620', '2510278', '862797', '2403028']\n",
      "Number of test samples: 2 :  ['2604993', '2467929']\n"
     ]
    }
   ],
   "source": [
    "#Pick random train and val:\n",
    "path= 'C:/Users/bvtran/OneDrive - Inside MD Anderson/Documents/MRL_data/RD_Center_cropped'\n",
    "datadir= os.listdir(path)\n",
    "remove=['2521725','2570357','2574697','2587907','895844','2547570']\n",
    "for i in remove:\n",
    "    datadir.remove(i)\n",
    "train_dir=random.sample(datadir, 17)\n",
    "for i in range(len(train_dir)):\n",
    "    datadir.remove(train_dir[i])\n",
    "val_dir=random.sample(datadir, 2)\n",
    "train_path=[]\n",
    "val_path=[]\n",
    "for i in range(len(train_dir)):\n",
    "    train_path.append(path+'/'+str(train_dir[i]))\n",
    "for i in range(len(val_dir)):\n",
    "    val_path.append(path+'/'+str(val_dir[i]))    \n",
    "print(\"Number of train samples:\", len(train_dir),\": \",train_dir)\n",
    "print(\"Number of test samples:\", len(val_dir),\": \",val_dir)"
   ]
  },
  {
   "cell_type": "code",
   "execution_count": 176,
   "id": "cdc064e1",
   "metadata": {},
   "outputs": [
    {
     "name": "stdout",
     "output_type": "stream",
     "text": [
      "Number of train samples: 15 :  ['2467000', '2609170', '2139028', '1049397', '862797', '2467929', '2403028', '2593206', '2386449', '2591335', '2551521', '2455275', '2510278', '2419611', '2541392']\n",
      "Number of test samples: 2 :  ['2377620', '2459017']\n"
     ]
    }
   ],
   "source": [
    "path= 'C:/Users/bvtran/OneDrive - Inside MD Anderson/Documents/MRL_data/RD_Center_cropped'\n",
    "datadir= os.listdir(path)\n",
    "remove=['2521725','2570357','2574697','2587907','895844','2547570','2377620', '2459017']\n",
    "for i in remove:\n",
    "    datadir.remove(i)\n",
    "train_dir=random.sample(datadir, 15)\n",
    "for i in range(len(train_dir)):\n",
    "    datadir.remove(train_dir[i])\n",
    "val_dir=['2377620', '2459017']\n",
    "train_path=[]\n",
    "val_path=[]\n",
    "for i in range(len(train_dir)):\n",
    "    train_path.append(path+'/'+str(train_dir[i]))\n",
    "for i in range(len(val_dir)):\n",
    "    val_path.append(path+'/'+str(val_dir[i]))    \n",
    "print(\"Number of train samples:\", len(train_dir),\": \",train_dir)\n",
    "print(\"Number of test samples:\", len(val_dir),\": \",val_dir)"
   ]
  },
  {
   "cell_type": "code",
   "execution_count": 5,
   "id": "848bd16c",
   "metadata": {},
   "outputs": [],
   "source": [
    "from scipy.ndimage import zoom\n",
    "\n",
    "\n",
    "def clipped_zoom(img, zoom_factor, **kwargs):\n",
    "\n",
    "    h, w = img.shape[:2]\n",
    "\n",
    "    # For multichannel images we don't want to apply the zoom factor to the RGB\n",
    "    # dimension, so instead we create a tuple of zoom factors, one per array\n",
    "    # dimension, with 1's for any trailing dimensions after the width and height.\n",
    "    zoom_tuple = (zoom_factor,) * 2 + (1,) * (img.ndim - 2)\n",
    "\n",
    "    # Zooming out\n",
    "    if zoom_factor < 1:\n",
    "\n",
    "        # Bounding box of the zoomed-out image within the output array\n",
    "        zh = int(np.round(h * zoom_factor))\n",
    "        zw = int(np.round(w * zoom_factor))\n",
    "        top = (h - zh) // 2\n",
    "        left = (w - zw) // 2\n",
    "\n",
    "        # Zero-padding\n",
    "        out = np.zeros_like(img)\n",
    "        out[top:top+zh, left:left+zw] = zoom(img, zoom_tuple, **kwargs)\n",
    "\n",
    "    # Zooming in\n",
    "    elif zoom_factor > 1:\n",
    "\n",
    "        # Bounding box of the zoomed-in region within the input array\n",
    "        zh = int(np.round(h / zoom_factor))\n",
    "        zw = int(np.round(w / zoom_factor))\n",
    "        top = (h - zh) // 2\n",
    "        left = (w - zw) // 2\n",
    "\n",
    "        out = zoom(img[top:top+zh, left:left+zw], zoom_tuple, **kwargs)\n",
    "\n",
    "        # `out` might still be slightly larger than `img` due to rounding, so\n",
    "        # trim off any extra pixels at the edges\n",
    "        trim_top = ((out.shape[0] - h) // 2)\n",
    "        trim_left = ((out.shape[1] - w) // 2)\n",
    "        out = out[trim_top:trim_top+h, trim_left:trim_left+w]\n",
    "\n",
    "    # If zoom_factor == 1, just return the input array\n",
    "    else:\n",
    "        out = img\n",
    "    return out"
   ]
  },
  {
   "cell_type": "code",
   "execution_count": 147,
   "id": "265e9444",
   "metadata": {},
   "outputs": [],
   "source": [
    "#Prepare sequence class to load and vectorize batches of data\n",
    "\n",
    "class tumorMaskData(keras.utils.Sequence):\n",
    "    \"\"\"Helper to iterate over the data (as Numpy arrays).\"\"\"\n",
    "\n",
    "    def __init__(self, batch_size, img_size, input_img_paths, target_img_paths):\n",
    "        self.batch_size = batch_size\n",
    "        self.img_size = img_size\n",
    "        self.input_img_paths = input_img_paths\n",
    "        self.target_img_paths = target_img_paths\n",
    "\n",
    "    def __len__(self):\n",
    "        return len(self.target_img_paths) // self.batch_size\n",
    "\n",
    "    def __getitem__(self, idx):\n",
    "        \"\"\"Returns tuple (input, target) correspond to batch #idx.\"\"\"\n",
    "        i = idx * self.batch_size\n",
    "        batch_input_img_paths = self.input_img_paths[i : i + self.batch_size]\n",
    "        batch_target_img_paths = self.target_img_paths[i : i + self.batch_size]\n",
    "        x = np.zeros((self.batch_size,) + self.img_size + (3,))\n",
    "        for j, path in enumerate(batch_input_img_paths):\n",
    "            data_path= os.listdir(path)\n",
    "            Contour_path=[]\n",
    "            for i in range(len(data_path)):\n",
    "                if (\"Contour\" in data_path[i])==True:\n",
    "                    Contour_path.append(data_path[i]) \n",
    "            contour1, header = nrrd.read(path+'/'+Contour_path[0])\n",
    "            contour2, header = nrrd.read(path+'/'+Contour_path[1])\n",
    "            contour3, header = nrrd.read(path+'/'+Contour_path[2])\n",
    "#             if (\"2547570\" in path)==False:\n",
    "            contour1 = clipped_zoom(contour1, 2)\n",
    "            contour2 = clipped_zoom(contour2, 2)\n",
    "            contour3 = clipped_zoom(contour3, 2)\n",
    "            x[j] = np.stack((contour1*255,contour2*255,contour3*255), axis=-1)\n",
    "            \n",
    "        y = np.zeros((self.batch_size,) + self.img_size + (1,))\n",
    "        for j, path in enumerate(batch_target_img_paths):\n",
    "            data_path= os.listdir(path)\n",
    "            Contour_path=[]\n",
    "            for i in range(len(data_path)):\n",
    "                if (\"Contour\" in data_path[i])==True:\n",
    "                    Contour_path.append(data_path[i])\n",
    "            contour, header = nrrd.read(path+'/'+Contour_path[-1])\n",
    "#             if (\"2547570\" in path)==False:\n",
    "            contour = clipped_zoom(contour, 2)\n",
    "            y[j] =np.expand_dims(contour, 2)\n",
    "            \n",
    "        return x, y\n",
    "    "
   ]
  },
  {
   "cell_type": "code",
   "execution_count": 121,
   "id": "dc906eb6",
   "metadata": {},
   "outputs": [
    {
     "name": "stdout",
     "output_type": "stream",
     "text": [
      "Model: \"functional_1\"\n",
      "__________________________________________________________________________________________________\n",
      "Layer (type)                    Output Shape         Param #     Connected to                     \n",
      "==================================================================================================\n",
      "input_1 (InputLayer)            [(None, 64, 64, 3)]  0                                            \n",
      "__________________________________________________________________________________________________\n",
      "conv2d (Conv2D)                 (None, 32, 32, 32)   896         input_1[0][0]                    \n",
      "__________________________________________________________________________________________________\n",
      "batch_normalization (BatchNorma (None, 32, 32, 32)   128         conv2d[0][0]                     \n",
      "__________________________________________________________________________________________________\n",
      "activation (Activation)         (None, 32, 32, 32)   0           batch_normalization[0][0]        \n",
      "__________________________________________________________________________________________________\n",
      "activation_1 (Activation)       (None, 32, 32, 32)   0           activation[0][0]                 \n",
      "__________________________________________________________________________________________________\n",
      "separable_conv2d (SeparableConv (None, 32, 32, 64)   2400        activation_1[0][0]               \n",
      "__________________________________________________________________________________________________\n",
      "batch_normalization_1 (BatchNor (None, 32, 32, 64)   256         separable_conv2d[0][0]           \n",
      "__________________________________________________________________________________________________\n",
      "activation_2 (Activation)       (None, 32, 32, 64)   0           batch_normalization_1[0][0]      \n",
      "__________________________________________________________________________________________________\n",
      "separable_conv2d_1 (SeparableCo (None, 32, 32, 64)   4736        activation_2[0][0]               \n",
      "__________________________________________________________________________________________________\n",
      "batch_normalization_2 (BatchNor (None, 32, 32, 64)   256         separable_conv2d_1[0][0]         \n",
      "__________________________________________________________________________________________________\n",
      "max_pooling2d (MaxPooling2D)    (None, 16, 16, 64)   0           batch_normalization_2[0][0]      \n",
      "__________________________________________________________________________________________________\n",
      "conv2d_1 (Conv2D)               (None, 16, 16, 64)   2112        activation[0][0]                 \n",
      "__________________________________________________________________________________________________\n",
      "add (Add)                       (None, 16, 16, 64)   0           max_pooling2d[0][0]              \n",
      "                                                                 conv2d_1[0][0]                   \n",
      "__________________________________________________________________________________________________\n",
      "activation_3 (Activation)       (None, 16, 16, 64)   0           add[0][0]                        \n",
      "__________________________________________________________________________________________________\n",
      "separable_conv2d_2 (SeparableCo (None, 16, 16, 128)  8896        activation_3[0][0]               \n",
      "__________________________________________________________________________________________________\n",
      "batch_normalization_3 (BatchNor (None, 16, 16, 128)  512         separable_conv2d_2[0][0]         \n",
      "__________________________________________________________________________________________________\n",
      "activation_4 (Activation)       (None, 16, 16, 128)  0           batch_normalization_3[0][0]      \n",
      "__________________________________________________________________________________________________\n",
      "separable_conv2d_3 (SeparableCo (None, 16, 16, 128)  17664       activation_4[0][0]               \n",
      "__________________________________________________________________________________________________\n",
      "batch_normalization_4 (BatchNor (None, 16, 16, 128)  512         separable_conv2d_3[0][0]         \n",
      "__________________________________________________________________________________________________\n",
      "max_pooling2d_1 (MaxPooling2D)  (None, 8, 8, 128)    0           batch_normalization_4[0][0]      \n",
      "__________________________________________________________________________________________________\n",
      "conv2d_2 (Conv2D)               (None, 8, 8, 128)    8320        add[0][0]                        \n",
      "__________________________________________________________________________________________________\n",
      "add_1 (Add)                     (None, 8, 8, 128)    0           max_pooling2d_1[0][0]            \n",
      "                                                                 conv2d_2[0][0]                   \n",
      "__________________________________________________________________________________________________\n",
      "activation_5 (Activation)       (None, 8, 8, 128)    0           add_1[0][0]                      \n",
      "__________________________________________________________________________________________________\n",
      "separable_conv2d_4 (SeparableCo (None, 8, 8, 256)    34176       activation_5[0][0]               \n",
      "__________________________________________________________________________________________________\n",
      "batch_normalization_5 (BatchNor (None, 8, 8, 256)    1024        separable_conv2d_4[0][0]         \n",
      "__________________________________________________________________________________________________\n",
      "activation_6 (Activation)       (None, 8, 8, 256)    0           batch_normalization_5[0][0]      \n",
      "__________________________________________________________________________________________________\n",
      "separable_conv2d_5 (SeparableCo (None, 8, 8, 256)    68096       activation_6[0][0]               \n",
      "__________________________________________________________________________________________________\n",
      "batch_normalization_6 (BatchNor (None, 8, 8, 256)    1024        separable_conv2d_5[0][0]         \n",
      "__________________________________________________________________________________________________\n",
      "max_pooling2d_2 (MaxPooling2D)  (None, 4, 4, 256)    0           batch_normalization_6[0][0]      \n",
      "__________________________________________________________________________________________________\n",
      "conv2d_3 (Conv2D)               (None, 4, 4, 256)    33024       add_1[0][0]                      \n",
      "__________________________________________________________________________________________________\n",
      "add_2 (Add)                     (None, 4, 4, 256)    0           max_pooling2d_2[0][0]            \n",
      "                                                                 conv2d_3[0][0]                   \n",
      "__________________________________________________________________________________________________\n",
      "activation_7 (Activation)       (None, 4, 4, 256)    0           add_2[0][0]                      \n",
      "__________________________________________________________________________________________________\n",
      "conv2d_transpose (Conv2DTranspo (None, 4, 4, 256)    590080      activation_7[0][0]               \n",
      "__________________________________________________________________________________________________\n",
      "batch_normalization_7 (BatchNor (None, 4, 4, 256)    1024        conv2d_transpose[0][0]           \n",
      "__________________________________________________________________________________________________\n",
      "activation_8 (Activation)       (None, 4, 4, 256)    0           batch_normalization_7[0][0]      \n",
      "__________________________________________________________________________________________________\n",
      "conv2d_transpose_1 (Conv2DTrans (None, 4, 4, 256)    590080      activation_8[0][0]               \n",
      "__________________________________________________________________________________________________\n",
      "batch_normalization_8 (BatchNor (None, 4, 4, 256)    1024        conv2d_transpose_1[0][0]         \n",
      "__________________________________________________________________________________________________\n",
      "up_sampling2d_1 (UpSampling2D)  (None, 8, 8, 256)    0           add_2[0][0]                      \n",
      "__________________________________________________________________________________________________\n",
      "up_sampling2d (UpSampling2D)    (None, 8, 8, 256)    0           batch_normalization_8[0][0]      \n",
      "__________________________________________________________________________________________________\n",
      "conv2d_4 (Conv2D)               (None, 8, 8, 256)    65792       up_sampling2d_1[0][0]            \n",
      "__________________________________________________________________________________________________\n",
      "add_3 (Add)                     (None, 8, 8, 256)    0           up_sampling2d[0][0]              \n",
      "                                                                 conv2d_4[0][0]                   \n",
      "__________________________________________________________________________________________________\n",
      "activation_9 (Activation)       (None, 8, 8, 256)    0           add_3[0][0]                      \n",
      "__________________________________________________________________________________________________\n",
      "conv2d_transpose_2 (Conv2DTrans (None, 8, 8, 128)    295040      activation_9[0][0]               \n",
      "__________________________________________________________________________________________________\n",
      "batch_normalization_9 (BatchNor (None, 8, 8, 128)    512         conv2d_transpose_2[0][0]         \n",
      "__________________________________________________________________________________________________\n",
      "activation_10 (Activation)      (None, 8, 8, 128)    0           batch_normalization_9[0][0]      \n",
      "__________________________________________________________________________________________________\n",
      "conv2d_transpose_3 (Conv2DTrans (None, 8, 8, 128)    147584      activation_10[0][0]              \n",
      "__________________________________________________________________________________________________\n",
      "batch_normalization_10 (BatchNo (None, 8, 8, 128)    512         conv2d_transpose_3[0][0]         \n",
      "__________________________________________________________________________________________________\n",
      "up_sampling2d_3 (UpSampling2D)  (None, 16, 16, 256)  0           add_3[0][0]                      \n",
      "__________________________________________________________________________________________________\n",
      "up_sampling2d_2 (UpSampling2D)  (None, 16, 16, 128)  0           batch_normalization_10[0][0]     \n",
      "__________________________________________________________________________________________________\n",
      "conv2d_5 (Conv2D)               (None, 16, 16, 128)  32896       up_sampling2d_3[0][0]            \n",
      "__________________________________________________________________________________________________\n",
      "add_4 (Add)                     (None, 16, 16, 128)  0           up_sampling2d_2[0][0]            \n",
      "                                                                 conv2d_5[0][0]                   \n",
      "__________________________________________________________________________________________________\n",
      "activation_11 (Activation)      (None, 16, 16, 128)  0           add_4[0][0]                      \n",
      "__________________________________________________________________________________________________\n",
      "conv2d_transpose_4 (Conv2DTrans (None, 16, 16, 64)   73792       activation_11[0][0]              \n",
      "__________________________________________________________________________________________________\n",
      "batch_normalization_11 (BatchNo (None, 16, 16, 64)   256         conv2d_transpose_4[0][0]         \n",
      "__________________________________________________________________________________________________\n",
      "activation_12 (Activation)      (None, 16, 16, 64)   0           batch_normalization_11[0][0]     \n",
      "__________________________________________________________________________________________________\n",
      "conv2d_transpose_5 (Conv2DTrans (None, 16, 16, 64)   36928       activation_12[0][0]              \n",
      "__________________________________________________________________________________________________\n",
      "batch_normalization_12 (BatchNo (None, 16, 16, 64)   256         conv2d_transpose_5[0][0]         \n",
      "__________________________________________________________________________________________________\n",
      "up_sampling2d_5 (UpSampling2D)  (None, 32, 32, 128)  0           add_4[0][0]                      \n",
      "__________________________________________________________________________________________________\n",
      "up_sampling2d_4 (UpSampling2D)  (None, 32, 32, 64)   0           batch_normalization_12[0][0]     \n",
      "__________________________________________________________________________________________________\n",
      "conv2d_6 (Conv2D)               (None, 32, 32, 64)   8256        up_sampling2d_5[0][0]            \n",
      "__________________________________________________________________________________________________\n",
      "add_5 (Add)                     (None, 32, 32, 64)   0           up_sampling2d_4[0][0]            \n",
      "                                                                 conv2d_6[0][0]                   \n",
      "__________________________________________________________________________________________________\n",
      "activation_13 (Activation)      (None, 32, 32, 64)   0           add_5[0][0]                      \n",
      "__________________________________________________________________________________________________\n",
      "conv2d_transpose_6 (Conv2DTrans (None, 32, 32, 32)   18464       activation_13[0][0]              \n",
      "__________________________________________________________________________________________________\n",
      "batch_normalization_13 (BatchNo (None, 32, 32, 32)   128         conv2d_transpose_6[0][0]         \n",
      "__________________________________________________________________________________________________\n",
      "activation_14 (Activation)      (None, 32, 32, 32)   0           batch_normalization_13[0][0]     \n",
      "__________________________________________________________________________________________________\n",
      "conv2d_transpose_7 (Conv2DTrans (None, 32, 32, 32)   9248        activation_14[0][0]              \n",
      "__________________________________________________________________________________________________\n",
      "batch_normalization_14 (BatchNo (None, 32, 32, 32)   128         conv2d_transpose_7[0][0]         \n",
      "__________________________________________________________________________________________________\n",
      "up_sampling2d_7 (UpSampling2D)  (None, 64, 64, 64)   0           add_5[0][0]                      \n",
      "__________________________________________________________________________________________________\n",
      "up_sampling2d_6 (UpSampling2D)  (None, 64, 64, 32)   0           batch_normalization_14[0][0]     \n",
      "__________________________________________________________________________________________________\n",
      "conv2d_7 (Conv2D)               (None, 64, 64, 32)   2080        up_sampling2d_7[0][0]            \n",
      "__________________________________________________________________________________________________\n",
      "add_6 (Add)                     (None, 64, 64, 32)   0           up_sampling2d_6[0][0]            \n",
      "                                                                 conv2d_7[0][0]                   \n",
      "__________________________________________________________________________________________________\n",
      "conv2d_8 (Conv2D)               (None, 64, 64, 2)    578         add_6[0][0]                      \n",
      "==================================================================================================\n",
      "Total params: 2,058,690\n",
      "Trainable params: 2,054,914\n",
      "Non-trainable params: 3,776\n",
      "__________________________________________________________________________________________________\n"
     ]
    }
   ],
   "source": [
    "from tensorflow.keras import layers\n",
    "\n",
    "\n",
    "def get_model(img_size, num_classes):\n",
    "    inputs = keras.Input(shape=img_size + (3,))\n",
    "\n",
    "    ### [First half of the network: downsampling inputs] ###\n",
    "\n",
    "    # Entry block\n",
    "    x = layers.Conv2D(32, 3, strides=2, padding=\"same\")(inputs)\n",
    "    x = layers.BatchNormalization()(x)\n",
    "    x = layers.Activation(\"relu\")(x)\n",
    "\n",
    "    previous_block_activation = x  # Set aside residual\n",
    "\n",
    "    # Blocks 1, 2, 3 are identical apart from the feature depth.\n",
    "    for filters in [64, 128, 256]:\n",
    "        x = layers.Activation(\"relu\")(x)\n",
    "        x = layers.SeparableConv2D(filters, 3, padding=\"same\")(x)\n",
    "        x = layers.BatchNormalization()(x)\n",
    "\n",
    "        x = layers.Activation(\"relu\")(x)\n",
    "        x = layers.SeparableConv2D(filters, 3, padding=\"same\")(x)\n",
    "        x = layers.BatchNormalization()(x)\n",
    "\n",
    "        x = layers.MaxPooling2D(3, strides=2, padding=\"same\")(x)\n",
    "\n",
    "        # Project residual\n",
    "        residual = layers.Conv2D(filters, 1, strides=2, padding=\"same\")(\n",
    "            previous_block_activation\n",
    "        )\n",
    "        x = layers.add([x, residual])  # Add back residual\n",
    "        previous_block_activation = x  # Set aside next residual\n",
    "\n",
    "    ### [Second half of the network: upsampling inputs] ###\n",
    "\n",
    "    for filters in [256, 128, 64, 32]:\n",
    "        x = layers.Activation(\"relu\")(x)\n",
    "        x = layers.Conv2DTranspose(filters, 3, padding=\"same\")(x)\n",
    "        x = layers.BatchNormalization()(x)\n",
    "\n",
    "        x = layers.Activation(\"relu\")(x)\n",
    "        x = layers.Conv2DTranspose(filters, 3, padding=\"same\")(x)\n",
    "        x = layers.BatchNormalization()(x)\n",
    "\n",
    "        x = layers.UpSampling2D(2)(x)\n",
    "\n",
    "        # Project residual\n",
    "        residual = layers.UpSampling2D(2)(previous_block_activation)\n",
    "        residual = layers.Conv2D(filters, 1, padding=\"same\")(residual)\n",
    "        x = layers.add([x, residual])  # Add back residual\n",
    "        previous_block_activation = x  # Set aside next residual\n",
    "\n",
    "    # Add a per-pixel classification layer\n",
    "    outputs = layers.Conv2D(num_classes, 3, activation=\"softmax\", padding=\"same\")(x)\n",
    "\n",
    "    # Define the model\n",
    "    model = keras.Model(inputs, outputs)\n",
    "    return model\n",
    "\n",
    "\n",
    "# Free up RAM in case the model definition cells were run multiple times\n",
    "keras.backend.clear_session()\n",
    "\n",
    "# Build model\n",
    "model = get_model(img_size, num_classes)\n",
    "model.summary()"
   ]
  },
  {
   "cell_type": "code",
   "execution_count": 179,
   "id": "eb6e8d79",
   "metadata": {},
   "outputs": [],
   "source": [
    "# Instantiate data Sequences for each split\n",
    "train_gen = tumorMaskData(batch_size, img_size, train_path, train_path)\n",
    "val_gen = tumorMaskData(batch_size, img_size, val_path, val_path)"
   ]
  },
  {
   "cell_type": "code",
   "execution_count": 190,
   "id": "1770c76e",
   "metadata": {},
   "outputs": [
    {
     "name": "stdout",
     "output_type": "stream",
     "text": [
      "Epoch 1/15\n",
      "7/7 [==============================] - 2s 220ms/step - loss: 0.4987 - val_loss: 0.3817\n",
      "Epoch 2/15\n",
      "7/7 [==============================] - 1s 116ms/step - loss: 0.1388 - val_loss: 0.1122\n",
      "Epoch 3/15\n",
      "7/7 [==============================] - 1s 117ms/step - loss: 0.0542 - val_loss: 0.0729\n",
      "Epoch 4/15\n",
      "7/7 [==============================] - 1s 115ms/step - loss: 0.0399 - val_loss: 0.0699\n",
      "Epoch 5/15\n",
      "7/7 [==============================] - 1s 120ms/step - loss: 0.0750 - val_loss: 0.0671\n",
      "Epoch 6/15\n",
      "7/7 [==============================] - 1s 114ms/step - loss: 0.0773 - val_loss: 0.1958\n",
      "Epoch 7/15\n",
      "7/7 [==============================] - 1s 124ms/step - loss: 0.0645 - val_loss: 0.0903\n",
      "Epoch 8/15\n",
      "7/7 [==============================] - 1s 114ms/step - loss: 0.0359 - val_loss: 0.0855\n",
      "Epoch 9/15\n",
      "7/7 [==============================] - 1s 115ms/step - loss: 0.0347 - val_loss: 0.0835\n",
      "Epoch 10/15\n",
      "7/7 [==============================] - 1s 120ms/step - loss: 0.0346 - val_loss: 0.0822\n",
      "Epoch 11/15\n",
      "7/7 [==============================] - 1s 116ms/step - loss: 0.0345 - val_loss: 0.0812\n",
      "Epoch 12/15\n",
      "7/7 [==============================] - 1s 117ms/step - loss: 0.0345 - val_loss: 0.0803\n",
      "Epoch 13/15\n",
      "7/7 [==============================] - 1s 110ms/step - loss: 0.0345 - val_loss: 0.0797\n",
      "Epoch 14/15\n",
      "7/7 [==============================] - 1s 109ms/step - loss: 0.0345 - val_loss: 0.0793\n",
      "Epoch 15/15\n",
      "7/7 [==============================] - 1s 111ms/step - loss: 0.0345 - val_loss: 0.0790\n"
     ]
    },
    {
     "data": {
      "text/plain": [
       "<tensorflow.python.keras.callbacks.History at 0x25845537cd0>"
      ]
     },
     "execution_count": 190,
     "metadata": {},
     "output_type": "execute_result"
    }
   ],
   "source": [
    "model.compile(optimizer=\"rmsprop\", loss=\"sparse_categorical_crossentropy\")\n",
    "\n",
    "early_stopping = keras.callbacks.EarlyStopping(monitor=\"val_loss\", patience=10)\n",
    "reduce_lr = keras.callbacks.ReduceLROnPlateau(monitor=\"val_loss\", patience=1)\n",
    "\n",
    "# Train the model, doing validation at the end of each epoch.\n",
    "epochs = 15\n",
    "model.fit(train_gen, epochs=epochs, validation_data=val_gen,callbacks=[early_stopping, reduce_lr])"
   ]
  },
  {
   "cell_type": "code",
   "execution_count": 191,
   "id": "cc4ccb13",
   "metadata": {},
   "outputs": [
    {
     "name": "stdout",
     "output_type": "stream",
     "text": [
      "WARNING:tensorflow:7 out of the last 19 calls to <function Model.make_predict_function.<locals>.predict_function at 0x0000025813AE3700> triggered tf.function retracing. Tracing is expensive and the excessive number of tracings could be due to (1) creating @tf.function repeatedly in a loop, (2) passing tensors with different shapes, (3) passing Python objects instead of tensors. For (1), please define your @tf.function outside of the loop. For (2), @tf.function has experimental_relax_shapes=True option that relaxes argument shapes that can avoid unnecessary retracing. For (3), please refer to https://www.tensorflow.org/tutorials/customization/performance#python_or_tensor_args and https://www.tensorflow.org/api_docs/python/tf/function for  more details.\n"
     ]
    }
   ],
   "source": [
    "#Generate predictions for all images in the validation set\n",
    "val_preds = model.predict(val_gen)"
   ]
  },
  {
   "cell_type": "code",
   "execution_count": 186,
   "id": "48576acf",
   "metadata": {
    "scrolled": true
   },
   "outputs": [
    {
     "name": "stdout",
     "output_type": "stream",
     "text": [
      "INFO:tensorflow:Assets written to: C:/Users/bvtran/OneDrive - Inside MD Anderson/Documents/MRL_data/python_code/Unet-Contour\\assets\n"
     ]
    }
   ],
   "source": [
    "model.save('C:/Users/bvtran/OneDrive - Inside MD Anderson/Documents/MRL_data/python_code/Unet-Contour')"
   ]
  },
  {
   "cell_type": "code",
   "execution_count": 97,
   "id": "3103e268",
   "metadata": {},
   "outputs": [],
   "source": [
    "model = keras.models.load_model('C:/Users/bvtran/OneDrive - Inside MD Anderson/Documents/MRL_data/python_code')"
   ]
  },
  {
   "cell_type": "code",
   "execution_count": 192,
   "id": "f0f98222",
   "metadata": {
    "scrolled": false
   },
   "outputs": [
    {
     "data": {
      "image/png": "[encoded data removed]",
      "text/plain": [
       "<Figure size 720x720 with 2 Axes>"
      ]
     },
     "metadata": {
      "needs_background": "light"
     },
     "output_type": "display_data"
    },
    {
     "data": {
      "image/png": "[encoded data removed]",
      "text/plain": [
       "<Figure size 720x720 with 2 Axes>"
      ]
     },
     "metadata": {
      "needs_background": "light"
     },
     "output_type": "display_data"
    }
   ],
   "source": [
    "mask_predict=[]\n",
    "mask_gt=[]\n",
    "for i in range(len(val_dir)):\n",
    "    original_frames= val_gen[0][1][i]\n",
    "    original_frame=np.squeeze(original_frames)\n",
    "    mask_gt.append(original_frame)\n",
    "    predicted_frame= np.argmax(val_preds[i], axis=-1)\n",
    "    mask_predict.append(predicted_frame)\n",
    "    fig, axes = plt.subplots(1, 2, figsize=(10, 10))\n",
    "    axes[0].imshow(original_frame, cmap=\"gray\")\n",
    "    axes[0].set_title(f\"Ground Truth: {val_dir[i]}\")\n",
    "    axes[1].imshow(predicted_frame, cmap=\"gray\")\n",
    "    axes[1].set_title(f\"Predicted: {val_dir[i]}\")\n",
    "    plt.show()"
   ]
  },
  {
   "cell_type": "code",
   "execution_count": 183,
   "id": "41bf689e",
   "metadata": {},
   "outputs": [],
   "source": [
    "def DICE_COE(mask1, mask2):\n",
    "    intersect = np.sum(mask1*mask2)\n",
    "    fsum = np.sum(mask1)\n",
    "    ssum = np.sum(mask2)\n",
    "    dice = (2 * intersect ) / (fsum + ssum)\n",
    "    dice = np.mean(dice)\n",
    "    dice = round(dice, 3) # for easy reading\n",
    "    return dice"
   ]
  },
  {
   "cell_type": "code",
   "execution_count": 193,
   "id": "63e0c386",
   "metadata": {},
   "outputs": [
    {
     "data": {
      "text/plain": [
       "[0.689, 0.865]"
      ]
     },
     "execution_count": 193,
     "metadata": {},
     "output_type": "execute_result"
    }
   ],
   "source": [
    "dice=[]\n",
    "for i in range(2):\n",
    "    dice.append(DICE_COE(mask_gt[i],mask_predict[i]))\n",
    "dice"
   ]
  },
  {
   "cell_type": "code",
   "execution_count": 188,
   "id": "5219c8e8",
   "metadata": {},
   "outputs": [
    {
     "data": {
      "text/plain": [
       "(2, 64, 64)"
      ]
     },
     "execution_count": 188,
     "metadata": {},
     "output_type": "execute_result"
    }
   ],
   "source": [
    "np.array(mask_predict).shape"
   ]
  },
  {
   "cell_type": "code",
   "execution_count": 194,
   "id": "30b1c730",
   "metadata": {},
   "outputs": [],
   "source": [
    "nrrd.write(\"Unet_predictions\",np.array(mask_predict))"
   ]
  }
 ],
 "metadata": {
  "kernelspec": {
   "display_name": "Python 3 (ipykernel)",
   "language": "python",
   "name": "python3"
  },
  "language_info": {
   "codemirror_mode": {
    "name": "ipython",
    "version": 3
   },
   "file_extension": ".py",
   "mimetype": "text/x-python",
   "name": "python",
   "nbconvert_exporter": "python",
   "pygments_lexer": "ipython3",
   "version": "3.8.13"
  }
 },
 "nbformat": 4,
 "nbformat_minor": 5
}
